{
 "cells": [
  {
   "cell_type": "code",
   "execution_count": 1,
   "id": "84d1368b",
   "metadata": {},
   "outputs": [],
   "source": [
    "import mlflow"
   ]
  },
  {
   "cell_type": "code",
   "execution_count": 2,
   "id": "d0cc4337",
   "metadata": {},
   "outputs": [
    {
     "name": "stdout",
     "output_type": "stream",
     "text": [
      "mlflow, version 1.26.0\r\n"
     ]
    }
   ],
   "source": [
    "!mlflow --version"
   ]
  },
  {
   "cell_type": "code",
   "execution_count": 3,
   "id": "780dcc80",
   "metadata": {},
   "outputs": [
    {
     "name": "stdout",
     "output_type": "stream",
     "text": [
      "--2022-05-30 20:57:07--  https://s3.amazonaws.com/nyc-tlc/trip+data/green_tripdata_2021-01.parquet\n",
      "Resolving s3.amazonaws.com (s3.amazonaws.com)... 54.231.232.128\n",
      "Connecting to s3.amazonaws.com (s3.amazonaws.com)|54.231.232.128|:443... connected.\n",
      "HTTP request sent, awaiting response... 200 OK\n",
      "Length: 1333519 (1.3M) [binary/octet-stream]\n",
      "Saving to: ‘../data/green_tripdata_2021-01.parquet’\n",
      "\n",
      "../data/green_tripd 100%[===================>]   1.27M   640KB/s    in 2.0s    \n",
      "\n",
      "2022-05-30 20:57:11 (640 KB/s) - ‘../data/green_tripdata_2021-01.parquet’ saved [1333519/1333519]\n",
      "\n",
      "--2022-05-30 20:57:11--  https://s3.amazonaws.com/nyc-tlc/trip+data/green_tripdata_2021-02.parquet\n",
      "Resolving s3.amazonaws.com (s3.amazonaws.com)... 54.231.232.128\n",
      "Connecting to s3.amazonaws.com (s3.amazonaws.com)|54.231.232.128|:443... connected.\n",
      "HTTP request sent, awaiting response... 200 OK\n",
      "Length: 1145679 (1.1M) [binary/octet-stream]\n",
      "Saving to: ‘../data/green_tripdata_2021-02.parquet’\n",
      "\n",
      "../data/green_tripd 100%[===================>]   1.09M   522KB/s    in 2.1s    \n",
      "\n",
      "2022-05-30 20:57:15 (522 KB/s) - ‘../data/green_tripdata_2021-02.parquet’ saved [1145679/1145679]\n",
      "\n",
      "--2022-05-30 20:57:15--  https://s3.amazonaws.com/nyc-tlc/trip+data/green_tripdata_2021-03.parquet\n",
      "Resolving s3.amazonaws.com (s3.amazonaws.com)... 54.231.232.128\n",
      "Connecting to s3.amazonaws.com (s3.amazonaws.com)|54.231.232.128|:443... connected.\n",
      "HTTP request sent, awaiting response... 200 OK\n",
      "Length: 1474538 (1.4M) [binary/octet-stream]\n",
      "Saving to: ‘../data/green_tripdata_2021-03.parquet’\n",
      "\n",
      "../data/green_tripd 100%[===================>]   1.41M   682KB/s    in 2.1s    \n",
      "\n",
      "2022-05-30 20:57:18 (682 KB/s) - ‘../data/green_tripdata_2021-03.parquet’ saved [1474538/1474538]\n",
      "\n"
     ]
    }
   ],
   "source": [
    "!wget https://s3.amazonaws.com/nyc-tlc/trip+data/green_tripdata_2021-01.parquet -O ../data/green_tripdata_2021-01.parquet\n",
    "!wget https://s3.amazonaws.com/nyc-tlc/trip+data/green_tripdata_2021-02.parquet -O ../data/green_tripdata_2021-02.parquet\n",
    "!wget https://s3.amazonaws.com/nyc-tlc/trip+data/green_tripdata_2021-03.parquet -O ../data/green_tripdata_2021-03.parquet"
   ]
  },
  {
   "cell_type": "code",
   "execution_count": 4,
   "id": "20376724",
   "metadata": {},
   "outputs": [
    {
     "name": "stdout",
     "output_type": "stream",
     "text": [
      "/home/mikeyy/my-mlops-zoomcamp/week-2\r\n"
     ]
    }
   ],
   "source": [
    "!pwd"
   ]
  },
  {
   "cell_type": "markdown",
   "id": "bb8e03c8",
   "metadata": {},
   "source": [
    "# Question 2: Number of files in output folder\n",
    "**4**"
   ]
  },
  {
   "cell_type": "code",
   "execution_count": 5,
   "id": "e2474fb0",
   "metadata": {},
   "outputs": [
    {
     "name": "stdout",
     "output_type": "stream",
     "text": [
      "hpo.py  preprocess_data.py  register_model.py  train.py\r\n"
     ]
    }
   ],
   "source": [
    "ls helper_codes/"
   ]
  },
  {
   "cell_type": "code",
   "execution_count": 6,
   "id": "856b40ba",
   "metadata": {},
   "outputs": [],
   "source": [
    "!python helper_codes/preprocess_data.py --raw_data_path ../data/ --dest_path ./output"
   ]
  },
  {
   "cell_type": "code",
   "execution_count": 7,
   "id": "92ec232b",
   "metadata": {},
   "outputs": [
    {
     "name": "stdout",
     "output_type": "stream",
     "text": [
      "dv.pkl  test.pkl  train.pkl  valid.pkl\r\n"
     ]
    }
   ],
   "source": [
    "ls output"
   ]
  },
  {
   "cell_type": "markdown",
   "id": "5b903600",
   "metadata": {},
   "source": [
    "# Question 3: Number of parameters logged with autolog\n",
    "**17**\n"
   ]
  },
  {
   "cell_type": "code",
   "execution_count": 8,
   "id": "1b0e0205",
   "metadata": {},
   "outputs": [
    {
     "name": "stdout",
     "output_type": "stream",
     "text": [
      "./output\n",
      "2022/05/30 20:57:26 WARNING mlflow.utils.autologging_utils: You are using an unsupported version of sklearn. If you encounter errors during autologging, try upgrading / downgrading sklearn to a supported version, or try upgrading MLflow.\n",
      "2022/05/30 20:57:26 INFO mlflow.utils.autologging_utils: Created MLflow autologging run with ID 'e246ab4e748c4f0a9caf1b451997c18e', which will track hyperparameters, performance metrics, model artifacts, and lineage information for the current sklearn workflow\n",
      "2022/05/30 20:57:47 WARNING mlflow.utils.autologging_utils: MLflow autologging encountered a warning: \"/home/mikeyy/anaconda3/envs/exp-tracking-env/lib/python3.9/site-packages/_distutils_hack/__init__.py:30: UserWarning: Setuptools is replacing distutils.\"\n"
     ]
    }
   ],
   "source": [
    "!python helper_codes/train.py --data_path ./output"
   ]
  },
  {
   "cell_type": "markdown",
   "id": "ee2b48a2",
   "metadata": {},
   "source": [
    "# Question 4: Parameter for launching the tracking server\n",
    "In addition to backend-store-uri, what else do you need to pass to properly configure the server?"
   ]
  },
  {
   "cell_type": "code",
   "execution_count": 9,
   "id": "b7f6076c",
   "metadata": {},
   "outputs": [
    {
     "name": "stdout",
     "output_type": "stream",
     "text": [
      "\u001b[0m\u001b[01;34mhelper_codes\u001b[0m/     LearningNotebook.ipynb  \u001b[01;34mmlruns\u001b[0m/  requirements.txt\r\n",
      "Homework-2.ipynb  mlflow.db               \u001b[01;34moutput\u001b[0m/  \u001b[01;34mrunning-mlflow-examples\u001b[0m/\r\n"
     ]
    }
   ],
   "source": [
    "ls"
   ]
  },
  {
   "cell_type": "markdown",
   "id": "d34ebcbf",
   "metadata": {},
   "source": [
    "# Question 5: RMSE with hyperopt\n",
    "**6.628**"
   ]
  },
  {
   "cell_type": "code",
   "execution_count": 73,
   "id": "757aeb9f",
   "metadata": {},
   "outputs": [
    {
     "name": "stdout",
     "output_type": "stream",
     "text": [
      "100%|█████████| 50/50 [06:42<00:00,  8.05s/trial, best loss: 6.6284257482044735]\n"
     ]
    }
   ],
   "source": [
    "!python helper_codes/hpo.py --data_path ./output"
   ]
  },
  {
   "cell_type": "markdown",
   "id": "36435c0e",
   "metadata": {},
   "source": [
    "# Question 6: RMSE on test"
   ]
  },
  {
   "cell_type": "code",
   "execution_count": 74,
   "id": "aabec67a",
   "metadata": {},
   "outputs": [],
   "source": [
    "from mlflow.tracking import MlflowClient"
   ]
  },
  {
   "cell_type": "code",
   "execution_count": 75,
   "id": "da8bc40c",
   "metadata": {},
   "outputs": [],
   "source": [
    "MLFLOW_TRACKING_URI = \"sqlite:///mlflow.db\"\n",
    "\n",
    "client = MlflowClient(tracking_uri=MLFLOW_TRACKING_URI)"
   ]
  },
  {
   "cell_type": "code",
   "execution_count": 76,
   "id": "81a4c8aa",
   "metadata": {},
   "outputs": [
    {
     "data": {
      "text/plain": [
       "[<Experiment: artifact_location='./mlruns/0', experiment_id='0', lifecycle_stage='active', name='Default', tags={}>,\n",
       " <Experiment: artifact_location='./mlruns/1', experiment_id='1', lifecycle_stage='active', name='nyc-taxi-experiment', tags={}>,\n",
       " <Experiment: artifact_location='./mlruns/2', experiment_id='2', lifecycle_stage='active', name='nyc-taxi-experiment-homework-week2', tags={}>,\n",
       " <Experiment: artifact_location='./mlruns/5', experiment_id='5', lifecycle_stage='active', name='random-forest-hyperopt-1', tags={}>,\n",
       " <Experiment: artifact_location='./mlruns/6', experiment_id='6', lifecycle_stage='active', name='random-forest-best-models-1', tags={}>]"
      ]
     },
     "execution_count": 76,
     "metadata": {},
     "output_type": "execute_result"
    }
   ],
   "source": [
    "client.list_experiments()"
   ]
  },
  {
   "cell_type": "code",
   "execution_count": 77,
   "id": "7c07431d",
   "metadata": {},
   "outputs": [],
   "source": [
    "HPO_EXPERIMENT_NAME = \"random-forest-hyperopt-1\""
   ]
  },
  {
   "cell_type": "code",
   "execution_count": 78,
   "id": "c4a70778",
   "metadata": {},
   "outputs": [
    {
     "data": {
      "text/plain": [
       "<Experiment: artifact_location='./mlruns/5', experiment_id='5', lifecycle_stage='active', name='random-forest-hyperopt-1', tags={}>"
      ]
     },
     "execution_count": 78,
     "metadata": {},
     "output_type": "execute_result"
    }
   ],
   "source": [
    "experiment = client.get_experiment_by_name(HPO_EXPERIMENT_NAME)\n",
    "experiment"
   ]
  },
  {
   "cell_type": "code",
   "execution_count": 79,
   "id": "f84cd078",
   "metadata": {},
   "outputs": [],
   "source": [
    "from mlflow.entities import ViewType\n",
    "\n",
    "runs = client.search_runs(\n",
    "    experiment_ids=experiment.experiment_id,\n",
    "    run_view_type=ViewType.ACTIVE_ONLY,\n",
    "    max_results=5,\n",
    "    order_by=[\"metrics.rmse ASC\"]\n",
    ")"
   ]
  },
  {
   "cell_type": "code",
   "execution_count": 80,
   "id": "56f1410c",
   "metadata": {},
   "outputs": [
    {
     "name": "stdout",
     "output_type": "stream",
     "text": [
      "run id: 5546266cce0549d486580e366f49b969, rmse: 6.6729\n",
      "run id: eed83e153a954889ae216010c826fbb2, rmse: 6.6729\n",
      "run id: 98df72043b9848fb9d17fbcbfb4a48e2, rmse: 7.4478\n"
     ]
    }
   ],
   "source": [
    "for run in runs:\n",
    "    print(f\"run id: {run.info.run_id}, rmse: {run.data.metrics['rmse']:.4f}\")"
   ]
  },
  {
   "cell_type": "code",
   "execution_count": 82,
   "id": "b73c44d0",
   "metadata": {},
   "outputs": [
    {
     "data": {
      "text/plain": [
       "{'max_depth': '19.0',\n",
       " 'min_samples_leaf': '3.0',\n",
       " 'min_samples_split': '5.0',\n",
       " 'n_estimators': '28.0'}"
      ]
     },
     "execution_count": 82,
     "metadata": {},
     "output_type": "execute_result"
    }
   ],
   "source": [
    "runs[0].data.params"
   ]
  },
  {
   "cell_type": "markdown",
   "id": "5ab4d9a8",
   "metadata": {},
   "source": [
    "\n",
    "    # select the model with the lowest test RMSE\n",
    "    experiment = client.get_experiment_by_name(EXPERIMENT_NAME)\n",
    "    # best_run = client.search_runs( ...  )[0]\n",
    "\n",
    "    # register the best model\n",
    "    # mlflow.register_model( ... )"
   ]
  },
  {
   "cell_type": "code",
   "execution_count": 28,
   "id": "a239158e",
   "metadata": {},
   "outputs": [
    {
     "data": {
      "text/plain": [
       "'f04f66aa3dd048fcafb3aace1f12fb08'"
      ]
     },
     "execution_count": 28,
     "metadata": {},
     "output_type": "execute_result"
    }
   ],
   "source": [
    "runs[0].info.run_id"
   ]
  },
  {
   "cell_type": "code",
   "execution_count": null,
   "id": "254d6cee",
   "metadata": {},
   "outputs": [],
   "source": [
    "run_id = runs[0].info.run_id\n",
    "model_uri = f\"runs:/{run_id}/model\"\n",
    "mlflow.register_model(model_uri=model_uri, name=\"nyc-taxi-rf-regressor\")"
   ]
  },
  {
   "cell_type": "code",
   "execution_count": 84,
   "id": "97cd2015",
   "metadata": {},
   "outputs": [
    {
     "name": "stdout",
     "output_type": "stream",
     "text": [
      "2022/05/30 23:14:31 WARNING mlflow.utils.autologging_utils: You are using an unsupported version of sklearn. If you encounter errors during autologging, try upgrading / downgrading sklearn to a supported version, or try upgrading MLflow.\n",
      "\n",
      "\n",
      "\n",
      "\n",
      "run is: <Run: data=<RunData: metrics={'rmse': 6.6729449097319}, params={'max_depth': '19.0',\n",
      " 'min_samples_leaf': '3.0',\n",
      " 'min_samples_split': '5.0',\n",
      " 'n_estimators': '28.0'}, tags={'mlflow.source.git.commit': '393e344149cfe6e29bc3d8d520b424e18acae2c4',\n",
      " 'mlflow.source.name': 'helper_codes/hpo.py',\n",
      " 'mlflow.source.type': 'LOCAL',\n",
      " 'mlflow.user': 'mikeyy'}>, info=<RunInfo: artifact_uri='./mlruns/5/5546266cce0549d486580e366f49b969/artifacts', end_time=1653931533902, experiment_id='5', lifecycle_stage='active', run_id='5546266cce0549d486580e366f49b969', run_uuid='5546266cce0549d486580e366f49b969', start_time=1653931143164, status='FINISHED', user_id='mikeyy'>>\n",
      "\n",
      "\n",
      "\n",
      "\n",
      "2022/05/30 23:14:48 WARNING mlflow.utils.autologging_utils: MLflow autologging encountered a warning: \"/home/mikeyy/anaconda3/envs/exp-tracking-env/lib/python3.9/site-packages/_distutils_hack/__init__.py:30: UserWarning: Setuptools is replacing distutils.\"\n",
      "\n",
      "\n",
      "\n",
      "\n",
      "run is: <Run: data=<RunData: metrics={'rmse': 6.6729449097319}, params={}, tags={'mlflow.source.git.commit': '393e344149cfe6e29bc3d8d520b424e18acae2c4',\n",
      " 'mlflow.source.name': 'helper_codes/hpo.py',\n",
      " 'mlflow.source.type': 'LOCAL',\n",
      " 'mlflow.user': 'mikeyy'}>, info=<RunInfo: artifact_uri='./mlruns/5/eed83e153a954889ae216010c826fbb2/artifacts', end_time=1653929345070, experiment_id='5', lifecycle_stage='active', run_id='eed83e153a954889ae216010c826fbb2', run_uuid='eed83e153a954889ae216010c826fbb2', start_time=1653928951100, status='FINISHED', user_id='mikeyy'>>\n",
      "\n",
      "\n",
      "\n",
      "\n",
      "================================================================================\n",
      "ERROR in rec_eval\n",
      "EXCEPTION <class 'AttributeError'> 'NoneType' object has no attribute 'uniform'\n",
      "NODE\n",
      "0 quniform\n",
      "1   Literal{10}\n",
      "2   Literal{50}\n",
      "3   Literal{1}\n",
      "================================================================================\n",
      "Traceback (most recent call last):\n",
      "  File \"/home/mikeyy/my-mlops-zoomcamp/week-2/helper_codes/register_model.py\", line 93, in <module>\n",
      "    run(args.data_path, args.top_n)\n",
      "  File \"/home/mikeyy/my-mlops-zoomcamp/week-2/helper_codes/register_model.py\", line 67, in run\n",
      "    train_and_log_model(data_path=data_path, params=run.data.params)\n",
      "  File \"/home/mikeyy/my-mlops-zoomcamp/week-2/helper_codes/register_model.py\", line 40, in train_and_log_model\n",
      "    params = space_eval(SPACE, params)\n",
      "  File \"/home/mikeyy/anaconda3/envs/exp-tracking-env/lib/python3.9/site-packages/hyperopt/fmin.py\", line 618, in space_eval\n",
      "    rval = pyll.rec_eval(space, memo=memo)\n",
      "  File \"/home/mikeyy/anaconda3/envs/exp-tracking-env/lib/python3.9/site-packages/hyperopt/pyll/base.py\", line 902, in rec_eval\n",
      "    rval = scope._impls[node.name](*args, **kwargs)\n",
      "  File \"/home/mikeyy/anaconda3/envs/exp-tracking-env/lib/python3.9/site-packages/hyperopt/pyll/stochastic.py\", line 49, in quniform\n",
      "    draw = rng.uniform(low, high, size=size)\n",
      "AttributeError: 'NoneType' object has no attribute 'uniform'\n"
     ]
    }
   ],
   "source": [
    "!python helper_codes/register_model.py --data_path ./output"
   ]
  },
  {
   "cell_type": "code",
   "execution_count": null,
   "id": "9d3c2258",
   "metadata": {},
   "outputs": [],
   "source": []
  }
 ],
 "metadata": {
  "interpreter": {
   "hash": "5543b462b01068af8fa56f2e4e4db3cd5f995e10fd532b3b68ce3789227d4bcc"
  },
  "kernelspec": {
   "display_name": "Python 3 (ipykernel)",
   "language": "python",
   "name": "python3"
  },
  "language_info": {
   "codemirror_mode": {
    "name": "ipython",
    "version": 3
   },
   "file_extension": ".py",
   "mimetype": "text/x-python",
   "name": "python",
   "nbconvert_exporter": "python",
   "pygments_lexer": "ipython3",
   "version": "3.9.12"
  }
 },
 "nbformat": 4,
 "nbformat_minor": 5
}
